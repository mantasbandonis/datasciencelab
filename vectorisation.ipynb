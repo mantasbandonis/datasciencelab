{
 "cells": [
  {
   "cell_type": "code",
   "execution_count": 8,
   "metadata": {},
   "outputs": [],
   "source": [
    "import os\n",
    "import sys\n",
    "import csv\n",
    "import requests\n",
    "import json\n",
    "import operator\n",
    "import time\n",
    "import datetime\n",
    "import platform\n",
    "import itertools"
   ]
  },
  {
   "cell_type": "code",
   "execution_count": 9,
   "metadata": {},
   "outputs": [],
   "source": [
    "# function to write out text files\n",
    "def writeText(text, path, mode = 'a'):\n",
    "    with open (path, mode, encoding = 'utf-8') as textout:\n",
    "        textout.write((text))\n",
    "        \n",
    "# function to write out Json files\n",
    "def writeJson(json, path, mode = 'w'): \n",
    "    with open(path, mode) as file:\n",
    "        file.write(json.dumps(json))\n",
    "        \n",
    "# function to wrrite out csv files\n",
    "def writeCsv(listOut, outputFile):         \n",
    "    import csv\n",
    "    with open (outputFile, \"w\", newline='', encoding = 'utf-8') as outputfile:\n",
    "        writer = csv.writer(outputfile, delimiter = \",\")\n",
    "        for element in listOut:\n",
    "            writer.writerow(element)"
   ]
  },
  {
   "cell_type": "code",
   "execution_count": 10,
   "metadata": {},
   "outputs": [],
   "source": [
    "# function to get text files as strings\n",
    "def getTxt(path):  \n",
    "    return open(path, 'r').read()\n",
    "\n",
    "# import data from prep_out.csv\n",
    "def getCsv(path, delim = ','): \n",
    "    list_return = []\n",
    "    with open (path, encoding = 'utf-8') as file:\n",
    "        csvreader = csv.reader(file, delimiter = delim)        \n",
    "        for i, line in enumerate(csvreader):\n",
    "            list_inner = []\n",
    "            list_inner.append(line[0].replace('\\\"','').replace('\\'','').replace('[','').replace(']','').strip().split(','))\n",
    "            list_inner.append(line[1].replace('\\\"','').replace('\\'','').replace('[','').replace(']','').strip().split(','))\n",
    "            list_inner.append(line[2].replace('\\\"','').replace('\\'','').replace('[','').replace(']','').strip().split(','))\n",
    "            list_return.append(list_inner)\n",
    "    \n",
    "    \n",
    "    return list_return"
   ]
  },
  {
   "cell_type": "code",
   "execution_count": 11,
   "metadata": {},
   "outputs": [],
   "source": [
    "# platform specific paths for opening prep_out.csv\n",
    "if platform.system() == 'Windows':\n",
    "    prep_data = getCsv('..\\\\output\\\\prep_out_300.csv')\n",
    "else:\n",
    "    prep_data = getCsv('../output/prep_out_300.csv')"
   ]
  },
  {
   "cell_type": "code",
   "execution_count": 12,
   "metadata": {
    "scrolled": true
   },
   "outputs": [
    {
     "name": "stdout",
     "output_type": "stream",
     "text": [
      "3573\n",
      "[['domestic', ' general', ' government', ' health', ' expenditure', ' capita', ' current', ' us', ' $', ' countries'], ['public', ' expenditure', ' health', ' domestic', ' sources', ' capita', ' expressed', ' current', ' us', ' dollars'], ['social issues', ' politics', ' environment', ' national accounts', ' health systems by country', ' military budget']]\n"
     ]
    }
   ],
   "source": [
    "# testing imported data\n",
    "print(len(prep_data))   \n",
    "print(prep_data[0])"
   ]
  },
  {
   "cell_type": "markdown",
   "metadata": {},
   "source": [
    "## Word2Vec"
   ]
  },
  {
   "cell_type": "code",
   "execution_count": 13,
   "metadata": {},
   "outputs": [],
   "source": [
    "# function for summing up single vectors (=words) in a vectorlist\n",
    "def sumVect(list_vect, ind):\n",
    "    try:\n",
    "        for i, elem in enumerate(list_vect):\n",
    "            if not elem:\n",
    "                del list_vect[i]\n",
    "        \n",
    "        int_len_vect = len(list_vect[0])\n",
    "        int_len_desc = len(list_vect)\n",
    "        list_vect_sum = [0] * int_len_vect\n",
    "        for vect in list_vect:\n",
    "            for i, dim in enumerate(vect):\n",
    "                list_vect_sum[i] += float(dim)\n",
    "        \n",
    "        for i, vect in enumerate(list_vect_sum):\n",
    "            list_vect_sum[i] = float(float(vect)/int_len_desc)\n",
    "            \n",
    "            \n",
    "        return(list_vect_sum)\n",
    "    except Exception as e:\n",
    "        print(ind)\n",
    "        print(list_vect)\n",
    "        print(i)\n",
    "        print(list_vect_sum)\n",
    "        print(e)"
   ]
  },
  {
   "cell_type": "code",
   "execution_count": 14,
   "metadata": {},
   "outputs": [],
   "source": [
    "# creating list of vectors by accessing a Word2Vec model set up on the WU server\n",
    "def getVecList(list_in):\n",
    "    failcnt = 0\n",
    "    failelemcnt = 0\n",
    "    str_log = 'Started at:\\n' + datetime.datetime.fromtimestamp(time.time()).strftime('%Y-%m-%d %H:%M:%S') + '\\n'\n",
    "    print('Started at:')\n",
    "    print(datetime.datetime.fromtimestamp(time.time()).strftime('%Y-%m-%d %H:%M:%S'),'\\n')\n",
    "    # List of Lists as input needed\n",
    "    adress = 'http://word2vec.ai.wu.ac.at/googlenews/model?word='\n",
    "    # Alternative model:\n",
    "#     adress = 'http://word2vec.ai.wu.ac.at/twitter27_200/model?word='\n",
    "    # Alternative model:\n",
    "#     adress = 'http://word2vec.ai.wu.ac.at/glove840_300/model?word='\n",
    "    # Alternative model:\n",
    "#     adress = 'http://word2vec.ai.wu.ac.at/ft_en_300/model?word='\n",
    "    list_return = [[],[]]\n",
    "    list_failed = [] \n",
    "    \n",
    "    for i, elem in enumerate(list_in):\n",
    "        inner_feat, inner_label = [], []\n",
    "        str_1 = '-------------------------------\\n' + 'Element ' + str(i)\n",
    "        #print(str_1)\n",
    "        str_log += str_1 + '\\n'\n",
    "    \n",
    "#         print(elem)\n",
    "        for str_elem in elem[1]:\n",
    "            elem[0].append(str_elem)\n",
    "        del elem[1]\n",
    "        \n",
    "# name and desc ----------------------------------------\n",
    "        for str_elem in elem[0]:\n",
    "            word = str_elem.strip() \n",
    "            try:\n",
    "                inner_feat.append([float(x) for x in \n",
    "                                   requests.get((adress+word)).text.replace(' ','').replace('[','').replace(']','').split(',')])\n",
    "            except:\n",
    "                try:\n",
    "                    inner_feat.append([float(x) for x in \n",
    "                                       requests.get((adress+word.title())).text.replace(' ','').replace('[','').replace(']','').split(',')])\n",
    "                except Exception as e:\n",
    "                    str_2 = 'fail\\n' + adress+(word) + '\\n' + str(e) + '\\n' + requests.get((adress+word)).text\n",
    "                    str_log += str_2 + '\\n'\n",
    "                    inner_feat.append([])\n",
    "                    list_failed.append(word)\n",
    "                    failcnt += 1\n",
    "\n",
    "# label ----------------------------------------\n",
    "        for str_elem in elem[1]:\n",
    "            if str_elem:\n",
    "                word = str_elem.strip()\n",
    "                inner_label.append(str_elem)\n",
    "\n",
    "        \n",
    "# create output        \n",
    "        if (inner_feat and inner_label):\n",
    "            list_return[0].append(sumVect(inner_feat, i))\n",
    "            list_return[1].append(inner_label)\n",
    "        else:\n",
    "            str_log += 'fail\\nEmpty List can not be appended!\\n'\n",
    "            failelemcnt += 1\n",
    "            \n",
    "        \n",
    "        \n",
    "    print('Failed words: ', failcnt)\n",
    "    print('Failed Elements: ', failelemcnt)\n",
    "    str_log += '\\nFinished at:\\n' + datetime.datetime.fromtimestamp(time.time()).strftime('%Y-%m-%d %H:%M:%S')\n",
    "    writeText(str_log, '../output/log.txt')    \n",
    "    print('\\nEnded at:')\n",
    "    print(datetime.datetime.fromtimestamp(time.time()).strftime('%Y-%m-%d %H:%M:%S')) \n",
    "    return list_return, list_failed"
   ]
  },
  {
   "cell_type": "code",
   "execution_count": 15,
   "metadata": {
    "scrolled": false
   },
   "outputs": [
    {
     "name": "stdout",
     "output_type": "stream",
     "text": [
      "Started at:\n",
      "2019-01-13 16:34:50 \n",
      "\n",
      "Failed words:  2733\n",
      "Failed Elements:  35\n",
      "\n",
      "Ended at:\n",
      "2019-01-13 16:48:19\n"
     ]
    }
   ],
   "source": [
    "# call functio for creating vector list\n",
    "# Failed words: words which could not be interpreted by the model, e.g. 'rdf-idf'\n",
    "# Failed elements: elements/datasets which are containing ether no features or no labels\n",
    "vect_list = getVecList(prep_data)"
   ]
  },
  {
   "cell_type": "code",
   "execution_count": 9,
   "metadata": {},
   "outputs": [
    {
     "data": {
      "text/plain": [
       "3538"
      ]
     },
     "execution_count": 9,
     "metadata": {},
     "output_type": "execute_result"
    }
   ],
   "source": [
    "len(vect_list[0][0])"
   ]
  },
  {
   "cell_type": "code",
   "execution_count": 10,
   "metadata": {},
   "outputs": [],
   "source": [
    "features = vect_list[0][0]\n",
    "labels = vect_list[0][1]\n",
    "missing = vect_list[1]"
   ]
  },
  {
   "cell_type": "code",
   "execution_count": 11,
   "metadata": {},
   "outputs": [],
   "source": [
    "# create output data which can be imported by the ML notebook\n",
    "if platform.system() == 'Windows':\n",
    "    writeCsv(features, '..\\\\output\\\\feat.csv')\n",
    "    writeCsv(labels, '..\\\\output\\\\labels.csv')\n",
    "    writeCsv(missing, '..\\\\output\\\\missing_words.csv')\n",
    "else:\n",
    "    writeCsv(features, '../output/feat.csv')\n",
    "    writeCsv(labels, '../output/labels.csv')\n",
    "    writeCsv(missing, '../output/missing_words.csv')"
   ]
  },
  {
   "cell_type": "code",
   "execution_count": 12,
   "metadata": {
    "scrolled": true
   },
   "outputs": [
    {
     "name": "stdout",
     "output_type": "stream",
     "text": [
      "[-0.020310211181640624, 0.01893463134765625, 0.02904205322265625, 0.11624755859375, -0.11915283203125, -0.0532867431640625, 0.035272216796875, -0.09762725830078126, 0.11873779296875, -0.016156005859375, -0.071173095703125, -0.0776611328125, -0.059136962890625, 0.070416259765625, -0.19630126953125, 0.126226806640625, -0.02576904296875, 0.0814300537109375, -0.020050048828125, 0.09813232421875, -0.031011962890625, -0.06298828125, 0.0118133544921875, -0.01236572265625, 0.036767578125, 0.01748046875, -0.1005615234375, 0.09871978759765625, -0.05386962890625, -0.0214080810546875, 0.00439910888671875, -0.1583221435546875, 0.0052215576171875, -0.0090240478515625, -0.03025360107421875, -0.1127349853515625, -0.007860565185546875, 0.073138427734375, 0.02081451416015625, 0.091009521484375, 0.06494140625, 0.00750274658203125, 0.05267333984375, -0.01016845703125, -0.035058212280273435, -0.0870635986328125, -0.028472900390625, 0.074761962890625, -0.15401611328125, -0.02520599365234375, 0.11897735595703125, -0.05496902465820312, -0.029901123046875, 0.038494873046875, -0.077325439453125, -0.037872314453125, -0.13115234375, -0.01787872314453125, 0.0231048583984375, -0.0697906494140625, -0.1060302734375, 0.021456432342529298, -0.0360137939453125, -0.030218505859375, 0.05411376953125, -0.03608856201171875, -0.02945404052734375, 0.09132080078125, 0.0566436767578125, -0.0392791748046875, -0.1200439453125, -0.00081787109375, 0.1860107421875, 0.06836090087890626, 0.0018341064453125, -0.0560882568359375, -0.008441162109375, 0.11716594696044921, -0.00330810546875, 0.06956329345703124, 0.02445831298828125, -0.023553466796875, -0.045849609375, 0.13009033203125, -0.04527587890625, -0.027349853515625, -0.11356239318847657, 0.0907012939453125, -0.028692626953125, 0.08625991344451904, 0.229443359375, -0.05968017578125, -0.059560394287109374, -0.14832763671875, -0.041192626953125, -0.0620086669921875, 0.0273529052734375, 0.01309814453125, 0.07273406982421875, 0.043865966796875, -0.033032989501953124, -0.0004840850830078125, 0.00928955078125, -0.0140228271484375, 0.009503173828125, -0.0207275390625, -0.0631805419921875, -0.0536712646484375, 0.068731689453125, -0.06750335693359374, -0.0096435546875, -0.0718414306640625, -0.04253082275390625, 0.03084716796875, 0.00541229248046875, 0.0854217529296875, -0.026220703125, -0.12740478515625, 0.1114501953125, 0.09892578125, -0.049493408203125, -0.002559661865234375, -0.06979522705078126, 0.0405487060546875, -0.0830596923828125, 0.0407012939453125, -0.060345458984375, -0.094482421875, 0.02000579833984375, -0.0205657958984375, -0.07539482116699218, 0.00620269775390625, -0.1176788330078125, -0.093597412109375, -0.053348541259765625, -0.07218017578125, 0.011541748046875, -0.047216796875, 0.06934585571289062, 0.075958251953125, 0.0490478515625, -0.041357803344726565, -0.0303466796875, 0.07540197372436523, -0.0223876953125, -0.06165771484375, 0.0312255859375, 0.04077072143554687, -0.0315399169921875, 0.010345458984375, 0.140283203125, -0.028948974609375, -0.03436279296875, -0.047837448120117185, 0.05670166015625, -0.0340850830078125, -0.013690948486328125, -0.1626220703125, 0.0073944091796875, -0.12417678833007813, -0.0596435546875, 0.07745361328125, 0.05649642944335938, 0.005218505859375, -0.01087646484375, 0.009394073486328125, -0.038201904296875, -0.021868896484375, 0.071563720703125, -0.03815460205078125, -0.06682586669921875, 0.001116943359375, 0.066741943359375, -0.0549102783203125, -0.00645904541015625, -0.0230010986328125, 0.09644088745117188, -0.12814617156982422, -0.07414703369140625, -0.0386383056640625, -0.1340087890625, 0.00313720703125, -0.0015013694763183593, -0.0124298095703125, 0.00480804443359375, -0.04261474609375, 0.0212646484375, 0.0829803466796875, 0.0392608642578125, 0.12764129638671876, -0.04088592529296875, -0.0205841064453125, -0.06500129699707032, -0.017897891998291015, -0.05804443359375, 0.0767242431640625, -0.0057708740234375, 0.03050537109375, 0.031744384765625, -0.0825531005859375, -0.1011087417602539, 0.081524658203125, 0.050433349609375, -0.013555908203125, 0.01956329345703125, -0.0253570556640625, -0.0164154052734375, -0.08209381103515626, -0.0583038330078125, -0.0089111328125, -0.05174713134765625, -0.01082763671875, -0.073297119140625, 0.111016845703125, -0.094512939453125, 0.03639984130859375, 0.08283538818359375, 0.080743408203125, -0.08220062255859376, 0.073797607421875, -0.022161865234375, -0.0040985107421875, 0.021589279174804688, 0.0039642333984375, 0.06092529296875, -0.10552978515625, 0.06539230346679688, 0.06037445068359375, 0.1091400146484375, 0.062542724609375, -0.0166748046875, 0.04635009765625, 0.036865234375, 0.0140380859375, -0.0306884765625, -0.012462615966796875, 0.09362335205078125, -0.00201416015625, 0.04652595520019531, -0.12742166519165038, 0.0644775390625, 0.04720916748046875, 0.08360748291015625, -0.026220703125, -0.007220458984375, 0.005865478515625, 0.02760009765625, -0.01867189407348633, -0.02930908203125, -0.009832763671875, 0.0192626953125, 0.0768310546875, -0.007440185546875, -0.017071533203125, -0.02503662109375, -0.00308837890625, 0.015423583984375, -0.0151153564453125, -0.037591552734375, -0.0175628662109375, 0.066015625, -0.00474853515625, 0.036834716796875, 0.03988037109375, -0.016448974609375, 0.157720947265625, -0.11744384765625, -0.04466552734375, -0.05650634765625, 0.045597076416015625, -0.0572540283203125, 0.04141845703125, 0.035161590576171874, -0.08040499687194824, 0.008096837997436523, -0.00059814453125, -0.023487949371337892, -0.07627944946289063, -0.06939926147460937, -0.01599578857421875, -0.07097358703613281, -0.038385009765625, 0.083154296875, 0.0215606689453125, -0.04775543212890625, 0.041633224487304686, -0.04957427978515625, 0.069921875, 0.16829833984375, 0.05144805908203125, -0.12425537109375, 0.047283935546875, -0.0042724609375, 0.006614875793457031, 0.0054750204086303714, -0.004632568359375, 0.027325439453125, 0.001568603515625, 0.03245849609375, -0.06616668701171875]\n",
      "-----------------------------------\n",
      "['social issues', ' politics', ' environment', ' national accounts', ' health systems by country', ' military budget']\n"
     ]
    }
   ],
   "source": [
    "print(features[0])\n",
    "print('-----------------------------------')\n",
    "print(labels[0])"
   ]
  }
 ],
 "metadata": {
  "kernelspec": {
   "display_name": "Python 3",
   "language": "python",
   "name": "python3"
  },
  "language_info": {
   "codemirror_mode": {
    "name": "ipython",
    "version": 3
   },
   "file_extension": ".py",
   "mimetype": "text/x-python",
   "name": "python",
   "nbconvert_exporter": "python",
   "pygments_lexer": "ipython3",
   "version": "3.6.5"
  }
 },
 "nbformat": 4,
 "nbformat_minor": 2
}
