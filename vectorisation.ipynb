{
 "cells": [
  {
   "cell_type": "code",
   "execution_count": 1,
   "metadata": {},
   "outputs": [],
   "source": [
    "import os\n",
    "import sys\n",
    "import csv\n",
    "import requests\n",
    "import json\n",
    "import operator\n",
    "import time\n",
    "import datetime\n",
    "import platform\n",
    "import itertools"
   ]
  },
  {
   "cell_type": "code",
   "execution_count": 2,
   "metadata": {},
   "outputs": [],
   "source": [
    "def writeText(text, path, mode = 'w'):     # function to work with text files\n",
    "    with open (path, mode, encoding = 'utf-8') as textout:\n",
    "        textout.write((text))\n",
    "        \n",
    "def writeJson(json, path, mode = 'w'):          # function to work with Json files\n",
    "    with open(path, mode) as file:\n",
    "        file.write(json.dumps(json))\n",
    "        \n",
    "def writeCsv(listOut, outputFile):          # function to work with csv files\n",
    "    import csv\n",
    "    with open (outputFile, \"w\", newline='', encoding = 'utf-8') as outputfile:\n",
    "        writer = csv.writer(outputfile, delimiter = \",\")\n",
    "        for element in listOut:\n",
    "            writer.writerow(element)"
   ]
  },
  {
   "cell_type": "code",
   "execution_count": 3,
   "metadata": {},
   "outputs": [],
   "source": [
    "def getTxt(path):                 # open txt file in read mode\n",
    "    return open(path, 'r').read()\n",
    "\n",
    "def getCsv(path, delim = ','):    # insert data of csv in lists \n",
    "    list_return = []\n",
    "    with open (path, encoding = 'utf-8') as file:\n",
    "        csvreader = csv.reader(file, delimiter = delim)        \n",
    "        for i, line in enumerate(csvreader):\n",
    "            list_inner = []\n",
    "            list_inner.append(line[0].replace('\\\"','').replace('\\'','').replace('[','').replace(']','').strip().split(','))\n",
    "            list_inner.append(line[1].replace('\\\"','').replace('\\'','').replace('[','').replace(']','').strip().split(','))\n",
    "            list_inner.append(line[2].replace('\\\"','').replace('\\'','').replace('[','').replace(']','').strip().split(','))\n",
    "            list_return.append(list_inner)\n",
    "    \n",
    "    \n",
    "    return list_return"
   ]
  },
  {
   "cell_type": "code",
   "execution_count": 9,
   "metadata": {},
   "outputs": [],
   "source": [
    "if platform.system() == 'Windows':           # platform specific paths for opening prep_out.csv\n",
    "    prep_data = getCsv('..\\\\output\\\\prep_out.csv')\n",
    "else:\n",
    "    prep_data = getCsv('../output/prep_out.csv')"
   ]
  },
  {
   "cell_type": "code",
   "execution_count": 10,
   "metadata": {
    "scrolled": true
   },
   "outputs": [
    {
     "name": "stdout",
     "output_type": "stream",
     "text": [
      "3573\n",
      "[['domestic', ' general', ' government', ' health', ' expenditure', ' capita', ' current', ' us', ' $', ' countries'], ['public', ' expenditure', ' health', ' domestic', ' sources', ' capita', ' expressed', ' current', ' us', ' dollars'], ['social', ' issues', ' politics', ' environment', ' national', ' accounts', ' health', ' systems', ' by', ' country', ' military', ' budget']]\n"
     ]
    }
   ],
   "source": [
    "print(len(prep_data))     # get amount of lists (data sets)\n",
    "print(prep_data[0]) # print for test purposes the 1141st list"
   ]
  },
  {
   "cell_type": "markdown",
   "metadata": {},
   "source": [
    "## Word2Vec"
   ]
  },
  {
   "cell_type": "code",
   "execution_count": 11,
   "metadata": {},
   "outputs": [],
   "source": [
    "def sumVect(list_vect, ind):\n",
    "    try:\n",
    "        for i, elem in enumerate(list_vect):\n",
    "            if not elem:\n",
    "                del list_vect[i]\n",
    "        \n",
    "        int_len_vect = len(list_vect[0])\n",
    "        list_vect_sum = [0] * int_len_vect\n",
    "        for vect in list_vect:\n",
    "            for i, dim in enumerate(vect):\n",
    "                list_vect_sum[i] += float(dim)\n",
    "        return(list_vect_sum)\n",
    "    except Exception as e:\n",
    "        print(ind)\n",
    "        print(list_vect)\n",
    "        print(i)\n",
    "        print(list_vect_sum)\n",
    "        print(e)"
   ]
  },
  {
   "cell_type": "code",
   "execution_count": 12,
   "metadata": {},
   "outputs": [],
   "source": [
    "def getVecList(list_in):\n",
    "    failcnt = 0\n",
    "    failelemcnt = 0\n",
    "    str_log = 'Started at:\\n' + datetime.datetime.fromtimestamp(time.time()).strftime('%Y-%m-%d %H:%M:%S') + '\\n'\n",
    "    print('Started at:')\n",
    "    print(datetime.datetime.fromtimestamp(time.time()).strftime('%Y-%m-%d %H:%M:%S'),'\\n')\n",
    "    # List of Lists as input needed\n",
    "    adress = 'http://word2vec.ai.wu.ac.at/googlenews/model?word='\n",
    "#     adress = 'http://word2vec.ai.wu.ac.at/twitter27_200/model?word='\n",
    "    list_return = [[],[]]\n",
    "    list_failed = [] \n",
    "    \n",
    "    for i, elem in enumerate(list_in):\n",
    "        inner_feat, inner_label = [], []\n",
    "        str_1 = '-------------------------------\\n' + 'Element ' + str(i)\n",
    "        #print(str_1)\n",
    "        str_log += str_1 + '\\n'\n",
    "    \n",
    "        for str_elem in elem[1]:\n",
    "            elem[0].append(str_elem)\n",
    "        del elem[1]\n",
    "        \n",
    "# name and desc ----------------------------------------\n",
    "        for str_elem in elem[0]:\n",
    "            word = str_elem.strip() \n",
    "            try:\n",
    "                inner_feat.append([float(x) for x in requests.get((adress+word)).text.replace(' ','').replace('[','').replace(']','').split(',')])\n",
    "            except:\n",
    "                try:\n",
    "                    inner_feat.append([float(x) for x in requests.get((adress+word.title())).text.replace(' ','').replace('[','').replace(']','').split(',')])\n",
    "                except Exception as e:\n",
    "                    str_2 = 'fail\\n' + adress+(word) + '\\n' + str(e) + '\\n' + requests.get((adress+word)).text\n",
    "                    #print(str_2)\n",
    "                    str_log += str_2 + '\\n'\n",
    "                    inner_feat.append([])\n",
    "                    list_failed.append(word)\n",
    "                    failcnt += 1\n",
    "\n",
    "# label ----------------------------------------\n",
    "        for str_elem in elem[1]:\n",
    "            if str_elem:\n",
    "                word = str_elem.strip()\n",
    "                inner_label.append(str_elem)\n",
    "\n",
    "        \n",
    "# create output        \n",
    "        if (inner_feat and inner_label):\n",
    "            list_return[0].append(sumVect(inner_feat, i))\n",
    "            list_return[1].append(inner_label)\n",
    "        else:\n",
    "            str_log += 'fail\\nEmpty List can not be appended!\\n'\n",
    "            failelemcnt += 1\n",
    "            \n",
    "        \n",
    "        \n",
    "    print('Failed words: ', failcnt)\n",
    "    print('Failed Elements: ', failelemcnt)\n",
    "    str_log += '\\nFinished at:\\n' + datetime.datetime.fromtimestamp(time.time()).strftime('%Y-%m-%d %H:%M:%S')\n",
    "    writeText(str_log, '../output/log.txt')    \n",
    "    print('\\nEnded at:')\n",
    "    print(datetime.datetime.fromtimestamp(time.time()).strftime('%Y-%m-%d %H:%M:%S')) \n",
    "    return list_return, list_failed"
   ]
  },
  {
   "cell_type": "code",
   "execution_count": 13,
   "metadata": {
    "scrolled": true
   },
   "outputs": [
    {
     "name": "stdout",
     "output_type": "stream",
     "text": [
      "Started at:\n",
      "2018-11-07 14:03:37 \n",
      "\n",
      "Failed words:  169\n",
      "Failed Elements:  0\n",
      "\n",
      "Ended at:\n",
      "2018-11-07 14:07:32\n"
     ]
    }
   ],
   "source": [
    "vect_list = getVecList(prep_data[0:500])"
   ]
  },
  {
   "cell_type": "code",
   "execution_count": 14,
   "metadata": {},
   "outputs": [
    {
     "data": {
      "text/plain": [
       "500"
      ]
     },
     "execution_count": 14,
     "metadata": {},
     "output_type": "execute_result"
    }
   ],
   "source": [
    "len(vect_list[0][0])"
   ]
  },
  {
   "cell_type": "code",
   "execution_count": 15,
   "metadata": {},
   "outputs": [],
   "source": [
    "features = vect_list[0][0]\n",
    "labels = vect_list[0][1]\n",
    "missing = vect_list[1]"
   ]
  },
  {
   "cell_type": "code",
   "execution_count": 16,
   "metadata": {},
   "outputs": [],
   "source": [
    "if platform.system() == 'Windows':\n",
    "    writeCsv(features, '..\\\\output\\\\feat.csv')\n",
    "    writeCsv(labels, '..\\\\output\\\\labels.csv')\n",
    "    writeCsv(missing, '..\\\\output\\\\missing_words.csv')\n",
    "else:\n",
    "    writeCsv(features, '../output/feat.csv')\n",
    "    writeCsv(labels, '../output/labels.csv')\n",
    "    writeCsv(missing, '../output/missing_words.csv')"
   ]
  },
  {
   "cell_type": "code",
   "execution_count": 12,
   "metadata": {
    "scrolled": true
   },
   "outputs": [
    {
     "name": "stdout",
     "output_type": "stream",
     "text": [
      "[-0.4062042236328125, 0.378692626953125, 0.580841064453125, 2.324951171875, -2.383056640625, -1.06573486328125, 0.7054443359375, -1.952545166015625, 2.374755859375, -0.3231201171875, -1.4234619140625, -1.55322265625, -1.1827392578125, 1.4083251953125, -3.926025390625, 2.5245361328125, -0.515380859375, 1.62860107421875, -0.4010009765625, 1.962646484375, -0.6202392578125, -1.259765625, 0.23626708984375, -0.247314453125, 0.7353515625, 0.349609375, -2.01123046875, 1.974395751953125, -1.077392578125, -0.42816162109375, 0.087982177734375, -3.16644287109375, 0.10443115234375, -0.18048095703125, -0.605072021484375, -2.25469970703125, -0.1572113037109375, 1.4627685546875, 0.416290283203125, 1.8201904296875, 1.298828125, 0.150054931640625, 1.053466796875, -0.203369140625, -0.7011642456054688, -1.74127197265625, -0.5694580078125, 1.4952392578125, -3.080322265625, -0.504119873046875, 2.379547119140625, -1.0993804931640625, -0.5980224609375, 0.7698974609375, -1.5465087890625, -0.7574462890625, -2.623046875, -0.357574462890625, 0.46209716796875, -1.39581298828125, -2.12060546875, 0.42912864685058594, -0.72027587890625, -0.6043701171875, 1.082275390625, -0.721771240234375, -0.589080810546875, 1.826416015625, 1.13287353515625, -0.78558349609375, -2.40087890625, -0.016357421875, 3.72021484375, 1.367218017578125, 0.03668212890625, -1.12176513671875, -0.1688232421875, 2.3433189392089844, -0.066162109375, 1.391265869140625, 0.489166259765625, -0.4710693359375, -0.9169921875, 2.601806640625, -0.905517578125, -0.5469970703125, -2.2712478637695312, 1.81402587890625, -0.5738525390625, 1.7251982688903809, 4.5888671875, -1.193603515625, -1.1912078857421875, -2.966552734375, -0.8238525390625, -1.24017333984375, 0.54705810546875, 0.261962890625, 1.454681396484375, 0.8773193359375, -0.6606597900390625, -0.00968170166015625, 0.185791015625, -0.28045654296875, 0.1900634765625, -0.41455078125, -1.26361083984375, -1.07342529296875, 1.3746337890625, -1.350067138671875, -0.19287109375, -1.43682861328125, -0.850616455078125, 0.616943359375, 0.108245849609375, 1.70843505859375, -0.5244140625, -2.548095703125, 2.22900390625, 1.978515625, -0.9898681640625, -0.0511932373046875, -1.395904541015625, 0.81097412109375, -1.66119384765625, 0.81402587890625, -1.2069091796875, -1.8896484375, 0.400115966796875, -0.41131591796875, -1.5078964233398438, 0.124053955078125, -2.35357666015625, -1.8719482421875, -1.0669708251953125, -1.443603515625, 0.2308349609375, -0.9443359375, 1.3869171142578125, 1.5191650390625, 0.98095703125, -0.8271560668945312, -0.60693359375, 1.5080394744873047, -0.44775390625, -1.233154296875, 0.62451171875, 0.8154144287109375, -0.63079833984375, 0.2069091796875, 2.8056640625, -0.5789794921875, -0.687255859375, -0.9567489624023438, 1.134033203125, -0.68170166015625, -0.2738189697265625, -3.25244140625, 0.14788818359375, -2.4835357666015625, -1.19287109375, 1.549072265625, 1.1299285888671875, 0.1043701171875, -0.217529296875, 0.1878814697265625, -0.7640380859375, -0.4373779296875, 1.4312744140625, -0.763092041015625, -1.336517333984375, 0.0223388671875, 1.3348388671875, -1.09820556640625, -0.129180908203125, -0.46002197265625, 1.9288177490234375, -2.5629234313964844, -1.482940673828125, -0.77276611328125, -2.68017578125, 0.062744140625, -0.030027389526367188, -0.24859619140625, 0.096160888671875, -0.852294921875, 0.42529296875, 1.65960693359375, 0.78521728515625, 2.552825927734375, -0.817718505859375, -0.41168212890625, -1.3000259399414062, -0.3579578399658203, -1.160888671875, 1.53448486328125, -0.11541748046875, 0.610107421875, 0.6348876953125, -1.65106201171875, -2.022174835205078, 1.6304931640625, 1.0086669921875, -0.2711181640625, 0.391265869140625, -0.50714111328125, -0.32830810546875, -1.641876220703125, -1.16607666015625, -0.17822265625, -1.034942626953125, -0.216552734375, -1.4659423828125, 2.2203369140625, -1.8902587890625, 0.727996826171875, 1.656707763671875, 1.6148681640625, -1.644012451171875, 1.4759521484375, -0.4432373046875, -0.08197021484375, 0.43178558349609375, 0.07928466796875, 1.218505859375, -2.110595703125, 1.3078460693359375, 1.207489013671875, 2.18280029296875, 1.2508544921875, -0.33349609375, 0.927001953125, 0.7373046875, 0.28076171875, -0.61376953125, -0.2492523193359375, 1.872467041015625, -0.040283203125, 0.9305191040039062, -2.548433303833008, 1.28955078125, 0.944183349609375, 1.672149658203125, -0.5244140625, -0.1444091796875, 0.1173095703125, 0.552001953125, -0.37343788146972656, -0.586181640625, -0.1966552734375, 0.38525390625, 1.53662109375, -0.1488037109375, -0.3414306640625, -0.500732421875, -0.061767578125, 0.3084716796875, -0.30230712890625, -0.7518310546875, -0.35125732421875, 1.3203125, -0.094970703125, 0.7366943359375, 0.797607421875, -0.3289794921875, 3.1544189453125, -2.348876953125, -0.893310546875, -1.130126953125, 0.9119415283203125, -1.14508056640625, 0.828369140625, 0.7032318115234375, -1.6080999374389648, 0.16193675994873047, -0.011962890625, -0.4697589874267578, -1.5255889892578125, -1.3879852294921875, -0.319915771484375, -1.4194717407226562, -0.7677001953125, 1.6630859375, 0.43121337890625, -0.955108642578125, 0.8326644897460938, -0.991485595703125, 1.3984375, 3.365966796875, 1.028961181640625, -2.485107421875, 0.9456787109375, -0.08544921875, 0.13229751586914062, 0.10950040817260742, -0.0926513671875, 0.5465087890625, 0.0313720703125, 0.649169921875, -1.323333740234375]\n",
      "-----------------------------------\n",
      "['social issues', ' politics', ' environment', ' national accounts', ' health systems by country', ' military budget']\n"
     ]
    }
   ],
   "source": [
    "print(features[0])\n",
    "print('-----------------------------------')\n",
    "print(labels[0])"
   ]
  }
 ],
 "metadata": {
  "kernelspec": {
   "display_name": "Python 3",
   "language": "python",
   "name": "python3"
  },
  "language_info": {
   "codemirror_mode": {
    "name": "ipython",
    "version": 3
   },
   "file_extension": ".py",
   "mimetype": "text/x-python",
   "name": "python",
   "nbconvert_exporter": "python",
   "pygments_lexer": "ipython3",
   "version": "3.6.6"
  }
 },
 "nbformat": 4,
 "nbformat_minor": 2
}
