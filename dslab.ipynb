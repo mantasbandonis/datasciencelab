{
 "cells": [
  {
   "cell_type": "code",
   "execution_count": 20,
   "metadata": {
    "scrolled": true
   },
   "outputs": [
    {
     "name": "stdout",
     "output_type": "stream",
     "text": [
      "2018-10-11 11:57:37\n",
      "_______________________________________________\n",
      "Python Version: 3.6.6 |Anaconda custom (64-bit)| (default, Jun 28 2018, 11:07:29) \n",
      "[GCC 4.2.1 Compatible Clang 4.0.1 (tags/RELEASE_401/final)]\n",
      "Requests Version: 2.19.1\n",
      "Json Version: 2.0.9\n"
     ]
    }
   ],
   "source": [
    "import os\n",
    "import sys\n",
    "import requests\n",
    "import json\n",
    "import operator\n",
    "import time\n",
    "import datetime\n",
    "if not os.path.exists('.\\\\output'):\n",
    "    os.makedirs('.\\\\output')\n",
    "    \n",
    "print(datetime.datetime.fromtimestamp(time.time()).strftime('%Y-%m-%d %H:%M:%S'))\n",
    "time.sleep(1)\n",
    "print('_______________________________________________')\n",
    "print(\"Python Version: \"+sys.version)\n",
    "print(\"Requests Version: \"+requests.__version__)\n",
    "print(\"Json Version: \"+json.__version__)"
   ]
  },
  {
   "cell_type": "code",
   "execution_count": 21,
   "metadata": {},
   "outputs": [],
   "source": [
    "def writeText(text, path, mode = 'a'):\n",
    "    with open (path, mode) as textout:\n",
    "        textout.write((text))\n",
    "        \n",
    "def writeJson(json, path, mode = 'w'):\n",
    "    with open(path, mode) as file:\n",
    "        file.write(json.dumps(json))\n",
    "        \n",
    "def writeCsv(listOut, outputFile):\n",
    "    import csv\n",
    "    with open (outputFile, \"w\", newline='', encoding = 'utf-8') as outputfile:\n",
    "        writer = csv.writer(outputfile, delimiter = \",\")\n",
    "        for element in listOut:\n",
    "            writer.writerow(element)"
   ]
  },
  {
   "cell_type": "code",
   "execution_count": 22,
   "metadata": {},
   "outputs": [],
   "source": [
    "def getToken():\n",
    "    return open('../token/token.txt', 'r').read()"
   ]
  },
  {
   "cell_type": "code",
   "execution_count": 23,
   "metadata": {
    "scrolled": false
   },
   "outputs": [],
   "source": [
    "def getJsonDocs(page = 1, itemsperpage = 200):\n",
    "    jsondata ='dummy'\n",
    "    list_return = []\n",
    "\n",
    "    while jsondata:\n",
    "        AUTH_TOKEN = getToken()\n",
    "        try:\n",
    "            r = requests.get(\"https://app.23degrees.io/services/pub/api/v1/opendata/getWorldBankDataSetsPaginated/\"+str(page)+\"/\"+str(itemsperpage)\n",
    "                         ,timeout=None\n",
    "                         ,headers={  'Content-Type': 'application/json'\n",
    "                                    , 'Authorization' : 'Bearer '+ getToken()\n",
    "                                   }\n",
    "                        )    \n",
    "            jsondata = r.json()\n",
    "            for elem in jsondata:\n",
    "                list_return.append(elem)\n",
    "        except requests.exceptions.HTTPError as err:\n",
    "            print(err)\n",
    "        page += 1\n",
    "    return list_return"
   ]
  },
  {
   "cell_type": "code",
   "execution_count": 24,
   "metadata": {},
   "outputs": [],
   "source": [
    "list_js_docs = getJsonDocs(1,200)"
   ]
  },
  {
   "cell_type": "code",
   "execution_count": 25,
   "metadata": {},
   "outputs": [],
   "source": [
    "list_js_tags = []\n",
    "list_js_notags = []\n",
    "list_unique_tags = []\n",
    "dict_tags = {}\n",
    "for i, jsondoc in enumerate(list_js_docs):\n",
    "    jstmp = json.dumps(jsondoc, sort_keys=True,indent=4, separators=(',', ': '))\n",
    "    if 'tags' in jstmp:\n",
    "        list_js_tags.append(jstmp)\n",
    "        for tag in jsondoc['typeSpecific']['context']['tags']:\n",
    "            if tag not in list_unique_tags:\n",
    "                list_unique_tags.append(tag)\n",
    "                dict_tags[tag] = 1\n",
    "            else:\n",
    "                dict_tags[tag] += 1\n",
    "                \n",
    "    else:\n",
    "        list_js_notags.append(jstmp)\n",
    "\n",
    "list_tags_sorted = list(sorted(dict_tags.items(), key=lambda x: x[1], reverse = True))"
   ]
  },
  {
   "cell_type": "code",
   "execution_count": 26,
   "metadata": {},
   "outputs": [
    {
     "name": "stdout",
     "output_type": "stream",
     "text": [
      "Json-Files:  4580\n",
      "Json-Files with tags:  3573\n",
      "Json-Files without tags:  1007\n",
      "Unique tags:  2848\n"
     ]
    }
   ],
   "source": [
    "print('Json-Files: ', len(list_js_docs))\n",
    "print('Json-Files with tags: ', len(list_js_tags))\n",
    "print('Json-Files without tags: ', len(list_js_notags))\n",
    "print('Unique tags: ', len(list_tags_sorted))"
   ]
  },
  {
   "cell_type": "code",
   "execution_count": null,
   "metadata": {},
   "outputs": [],
   "source": []
  }
 ],
 "metadata": {
  "kernelspec": {
   "display_name": "Python 3",
   "language": "python",
   "name": "python3"
  },
  "language_info": {
   "codemirror_mode": {
    "name": "ipython",
    "version": 3
   },
   "file_extension": ".py",
   "mimetype": "text/x-python",
   "name": "python",
   "nbconvert_exporter": "python",
   "pygments_lexer": "ipython3",
   "version": "3.6.6"
  }
 },
 "nbformat": 4,
 "nbformat_minor": 2
}
