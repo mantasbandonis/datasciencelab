{
 "cells": [
  {
   "cell_type": "code",
   "execution_count": 76,
   "metadata": {
    "scrolled": true
   },
   "outputs": [
    {
     "name": "stdout",
     "output_type": "stream",
     "text": [
      "2018-10-12 13:16:01\n",
      "_______________________________________________\n",
      "Python Version: 3.6.4 |Anaconda, Inc.| (default, Jan 16 2018, 10:22:32) [MSC v.1900 64 bit (AMD64)]\n",
      "Requests Version: 2.18.4\n",
      "Json Version: 2.0.9\n"
     ]
    }
   ],
   "source": [
    "import os\n",
    "import sys\n",
    "import requests\n",
    "import json\n",
    "import operator\n",
    "import time\n",
    "import datetime\n",
    "import nltk\n",
    "import matplotlib\n",
    "import matplotlib.pyplot\n",
    "\n",
    "if not os.path.exists('..\\\\output'):\n",
    "    os.makedirs('..\\\\output')\n",
    "    \n",
    "print(datetime.datetime.fromtimestamp(time.time()).strftime('%Y-%m-%d %H:%M:%S'))\n",
    "time.sleep(1)\n",
    "print('_______________________________________________')\n",
    "print(\"Python Version: \"+sys.version)\n",
    "print(\"Requests Version: \"+requests.__version__)\n",
    "print(\"Json Version: \"+json.__version__)"
   ]
  },
  {
   "cell_type": "code",
   "execution_count": 73,
   "metadata": {},
   "outputs": [],
   "source": [
    "from nltk import ngrams, FreqDist"
   ]
  },
  {
   "cell_type": "code",
   "execution_count": 3,
   "metadata": {},
   "outputs": [],
   "source": [
    "def writeText(text, path, mode = 'a'):\n",
    "    with open (path, mode) as textout:\n",
    "        textout.write((text))\n",
    "        \n",
    "def writeJson(json, path, mode = 'w'):\n",
    "    with open(path, mode) as file:\n",
    "        file.write(json.dumps(json))\n",
    "        \n",
    "def writeCsv(listOut, outputFile):\n",
    "    import csv\n",
    "    with open (outputFile, \"w\", newline='', encoding = 'ANSI') as outputfile:\n",
    "        writer = csv.writer(outputfile, delimiter = \",\")\n",
    "        for element in listOut:\n",
    "            writer.writerow(element)"
   ]
  },
  {
   "cell_type": "code",
   "execution_count": 4,
   "metadata": {},
   "outputs": [],
   "source": [
    "def getToken():\n",
    "    return open('..\\\\token\\\\token.txt', 'r').read()"
   ]
  },
  {
   "cell_type": "code",
   "execution_count": 5,
   "metadata": {
    "scrolled": false
   },
   "outputs": [],
   "source": [
    "def getJsonDocs(page = 1, itemsperpage = 200):\n",
    "    jsondata ='dummy'\n",
    "    list_return = []\n",
    "\n",
    "    while jsondata:\n",
    "        try:\n",
    "            r = requests.get(\"https://app.23degrees.io/services/pub/api/v1/opendata/getWorldBankDataSetsPaginated/\"+str(page)+\"/\"+str(itemsperpage)\n",
    "                         ,timeout=None\n",
    "                         ,headers={  'Content-Type': 'application/json'\n",
    "                                    , 'Authorization' : 'Bearer '+ getToken()\n",
    "                                   }\n",
    "                        )    \n",
    "            jsondata = r.json()\n",
    "            for elem in jsondata:\n",
    "                list_return.append(elem)\n",
    "        except requests.exceptions.HTTPError as err:\n",
    "            print(err)\n",
    "        page += 1\n",
    "    return list_return"
   ]
  },
  {
   "cell_type": "code",
   "execution_count": 6,
   "metadata": {},
   "outputs": [],
   "source": [
    "list_js_docs = getJsonDocs(1,200)"
   ]
  },
  {
   "cell_type": "code",
   "execution_count": 21,
   "metadata": {},
   "outputs": [
    {
     "data": {
      "text/plain": [
       "{'_id': '5b9a454e65d715001bce2645',\n",
       " 'description': 'Public expenditure on health from domestic sources per capita expressed in current US dollars.',\n",
       " 'name': 'Domestic general government health expenditure per capita (current US$), countries grouped by income levels',\n",
       " 'slug': 'domestic-general-government-health-expenditure-per-capita-current-ususd-countries-grouped-by-income-levels',\n",
       " 'typeSpecific': {'amountVizzes': 6,\n",
       "  'data': {'flowData': {'isFlowData': False},\n",
       "   'publisher': {'identifier': 'twentythree',\n",
       "    'license': 'https://datacatalog.worldbank.org/public-licenses',\n",
       "    'name': 'The World Bank',\n",
       "    'url': 'http://www.worldbank.org/'},\n",
       "   'type': 'json'},\n",
       "  'dataId': '5b9a454d3a52b4001919584d',\n",
       "  'fields': {'countryid': {'dataType': 'string',\n",
       "    'fieldName': 'countryid',\n",
       "    'fieldType': 'miscField',\n",
       "    'format': {'date': {'dateFormat': 'YYYY', 'inputFormat': 'YYYY'},\n",
       "     'locale': 'de-DE',\n",
       "     'number': {'decimalPlaces': '2',\n",
       "      'digitGrouping': True,\n",
       "      'numberFormat': '.0f',\n",
       "      'shorten': False},\n",
       "     'prefix': '',\n",
       "     'style': {'bold': False,\n",
       "      'color': '#000000',\n",
       "      'font': '\"\\\\\"Work Sans\\\\\", sans-serif\"',\n",
       "      'italic': False,\n",
       "      'size': 13},\n",
       "     'suffix': ''},\n",
       "    'isAggregationField': False,\n",
       "    'isLabelField': False,\n",
       "    'isoIsoField': None,\n",
       "    'isoLabelField': None,\n",
       "    'isoMappingId': None,\n",
       "    'nonValidValues': [],\n",
       "    'title': 'Countryid',\n",
       "    'uniquenessInfo': {'isNeeded': False},\n",
       "    'validValues': ['G_XN', 'G_XO', 'G_XM', 'G_XD', 'G_XP', 'G_XT']},\n",
       "   'countryvalue': {'dataType': 'string',\n",
       "    'fieldName': 'countryvalue',\n",
       "    'fieldType': 'miscField',\n",
       "    'format': {'date': {'dateFormat': 'YYYY', 'inputFormat': 'YYYY'},\n",
       "     'locale': 'de-DE',\n",
       "     'number': {'decimalPlaces': '2',\n",
       "      'digitGrouping': True,\n",
       "      'numberFormat': '.0f',\n",
       "      'shorten': False},\n",
       "     'prefix': '',\n",
       "     'style': {'bold': False,\n",
       "      'color': '#000000',\n",
       "      'font': '\"\\\\\"Work Sans\\\\\", sans-serif\"',\n",
       "      'italic': False,\n",
       "      'size': 13},\n",
       "     'suffix': ''},\n",
       "    'isAggregationField': False,\n",
       "    'isLabelField': True,\n",
       "    'isoIsoField': None,\n",
       "    'isoLabelField': None,\n",
       "    'isoMappingId': None,\n",
       "    'nonValidValues': [],\n",
       "    'title': 'Countryvalue',\n",
       "    'uniquenessInfo': {'isNeeded': False},\n",
       "    'validValues': ['Lower middle income',\n",
       "     'Upper middle income',\n",
       "     'Low & middle income',\n",
       "     'High income',\n",
       "     'Middle income',\n",
       "     'Low income']},\n",
       "   'date': {'dataType': 'date',\n",
       "    'fieldName': 'date',\n",
       "    'fieldType': 'timeField',\n",
       "    'format': {'date': {'dateFormat': 'YYYY', 'inputFormat': 'YYYY'},\n",
       "     'locale': 'de-DE',\n",
       "     'number': {'decimalPlaces': '2',\n",
       "      'digitGrouping': True,\n",
       "      'numberFormat': '.0f',\n",
       "      'shorten': False},\n",
       "     'prefix': '',\n",
       "     'style': {'bold': False,\n",
       "      'color': '#000000',\n",
       "      'font': '\"\\\\\"Work Sans\\\\\", sans-serif\"',\n",
       "      'italic': False,\n",
       "      'size': 13},\n",
       "     'suffix': ''},\n",
       "    'isAggregationField': False,\n",
       "    'isLabelField': False,\n",
       "    'isoIsoField': None,\n",
       "    'isoLabelField': None,\n",
       "    'isoMappingId': None,\n",
       "    'nonValidValues': [],\n",
       "    'title': 'Date',\n",
       "    'uniquenessInfo': {'isNeeded': False},\n",
       "    'validValues': ['2012',\n",
       "     '2011',\n",
       "     '2010',\n",
       "     '2006',\n",
       "     '2005',\n",
       "     '2004',\n",
       "     '2009',\n",
       "     '2000',\n",
       "     '2008',\n",
       "     '2007',\n",
       "     '2013',\n",
       "     '2002',\n",
       "     '2003',\n",
       "     '2001',\n",
       "     '2014',\n",
       "     '2015']},\n",
       "   'value': {'dataType': 'number',\n",
       "    'fieldName': 'value',\n",
       "    'fieldType': 'valueField',\n",
       "    'format': {'date': {'dateFormat': 'YYYY', 'inputFormat': 'YYYY'},\n",
       "     'locale': 'de-DE',\n",
       "     'number': {'decimalPlaces': '2',\n",
       "      'digitGrouping': True,\n",
       "      'numberFormat': '.0f',\n",
       "      'shorten': False},\n",
       "     'prefix': '',\n",
       "     'style': {'bold': False,\n",
       "      'color': '#000000',\n",
       "      'font': '\"\\\\\"Work Sans\\\\\", sans-serif\"',\n",
       "      'italic': False,\n",
       "      'size': 13},\n",
       "     'suffix': ''},\n",
       "    'isAggregationField': False,\n",
       "    'isLabelField': False,\n",
       "    'isoIsoField': None,\n",
       "    'isoLabelField': None,\n",
       "    'isoMappingId': None,\n",
       "    'nonValidValues': [],\n",
       "    'title': 'current US$',\n",
       "    'uniquenessInfo': {'isNeeded': False},\n",
       "    'validValues': []}},\n",
       "  'metaDataId': '5b9a454d3a52b4001919584e',\n",
       "  'supportedVizTypes': ['donutchart',\n",
       "   'areachart',\n",
       "   'barchart',\n",
       "   'donutchart_half',\n",
       "   'linechart',\n",
       "   'horizontalbarchart'],\n",
       "  'year': '2015'}}"
      ]
     },
     "execution_count": 21,
     "metadata": {},
     "output_type": "execute_result"
    }
   ],
   "source": [
    "list_js_docs[2]"
   ]
  },
  {
   "cell_type": "code",
   "execution_count": 66,
   "metadata": {},
   "outputs": [],
   "source": [
    "list_list_js_tags = [] #Format: jsondoc(str)|name(str)|description(str)|tags(list)\n",
    "list_js_tags_inner = []\n",
    "list_js_notags = []\n",
    "list_unique_tags = []\n",
    "list_tags = []\n",
    "dict_tags = {}\n",
    "for i, jsondoc in enumerate(list_js_docs):\n",
    "    jstmp = json.dumps(jsondoc, sort_keys=True,indent=4, separators=(',', ': '))\n",
    "    if 'tags' in jstmp:\n",
    "        list_js_tags_inner = []\n",
    "        list_js_tags_inner.append(jstmp)\n",
    "        tmp_list_tags = []\n",
    "        for tag in jsondoc['typeSpecific']['context']['tags']:\n",
    "            tmp_list_tags.append(tag)\n",
    "            list_tags.append(tag)\n",
    "            if tag not in list_unique_tags:\n",
    "                list_unique_tags.append(tag)\n",
    "                dict_tags[tag] = 1\n",
    "            else:\n",
    "                dict_tags[tag] += 1\n",
    "        list_js_tags_inner.append(jsondoc['name'])\n",
    "        list_js_tags_inner.append(jsondoc['description'])\n",
    "        list_js_tags_inner.append(tmp_list_tags)\n",
    "        list_list_js_tags.append(list_js_tags_inner)\n",
    "                \n",
    "    else:\n",
    "        list_js_notags.append(jstmp)\n",
    "\n",
    "list_tags_sorted = list(sorted(dict_tags.items(), key=lambda x: x[1], reverse = True))"
   ]
  },
  {
   "cell_type": "code",
   "execution_count": 64,
   "metadata": {},
   "outputs": [
    {
     "name": "stdout",
     "output_type": "stream",
     "text": [
      "Json-Files:  4580\n",
      "Json-Files with tags:  3573\n",
      "Json-Files without tags:  1007\n",
      "Unique tags:  2848\n"
     ]
    }
   ],
   "source": [
    "print('Json-Files: ', len(list_js_docs))\n",
    "print('Json-Files with tags: ', len(list_list_js_tags))\n",
    "print('Json-Files without tags: ', len(list_js_notags))\n",
    "print('Unique tags: ', len(list_tags_sorted))"
   ]
  },
  {
   "cell_type": "code",
   "execution_count": 65,
   "metadata": {},
   "outputs": [],
   "source": [
    "ll_name_desc_tags = []\n",
    "for elem in list_list_js_tags:\n",
    "    list_inner = []\n",
    "    list_inner.append(elem[1])\n",
    "    list_inner.append(elem[2])\n",
    "    list_inner.append(elem[3])\n",
    "    ll_name_desc_tags.append(list_inner)"
   ]
  },
  {
   "cell_type": "code",
   "execution_count": 84,
   "metadata": {},
   "outputs": [
    {
     "data": {
      "text/plain": [
       "[('World Bank', 3553),\n",
       " ('Business_Finance', 2174),\n",
       " ('Economy', 1992),\n",
       " ('Social Issues', 890),\n",
       " ('Money', 691)]"
      ]
     },
     "execution_count": 84,
     "metadata": {},
     "output_type": "execute_result"
    }
   ],
   "source": [
    "fdist_total_tags = FreqDist(list_tags)\n",
    "fdist_total_tags.most_common(5)"
   ]
  },
  {
   "cell_type": "code",
   "execution_count": 87,
   "metadata": {
    "scrolled": false
   },
   "outputs": [
    {
     "data": {
      "image/png": "[encoded data removed]",
      "text/plain": [
       "<matplotlib.figure.Figure at 0x291138e84e0>"
      ]
     },
     "metadata": {},
     "output_type": "display_data"
    }
   ],
   "source": [
    "fdist_total_tags.plot(100, title = 'Most common Tags')"
   ]
  },
  {
   "cell_type": "code",
   "execution_count": null,
   "metadata": {
    "scrolled": true
   },
   "outputs": [],
   "source": []
  },
  {
   "cell_type": "code",
   "execution_count": 32,
   "metadata": {},
   "outputs": [],
   "source": [
    "writeCsv(list_tags_sorted, '..\\\\output\\\\tags.csv')"
   ]
  },
  {
   "cell_type": "code",
   "execution_count": null,
   "metadata": {},
   "outputs": [],
   "source": []
  },
  {
   "cell_type": "code",
   "execution_count": null,
   "metadata": {},
   "outputs": [],
   "source": [
    "\n",
    "\n",
    "\n",
    "\n",
    "\n",
    "\n",
    "\n",
    "\n",
    "\n",
    "\n",
    "\n",
    "\n"
   ]
  }
 ],
 "metadata": {
  "kernelspec": {
   "display_name": "Python 3",
   "language": "python",
   "name": "python3"
  },
  "language_info": {
   "codemirror_mode": {
    "name": "ipython",
    "version": 3
   },
   "file_extension": ".py",
   "mimetype": "text/x-python",
   "name": "python",
   "nbconvert_exporter": "python",
   "pygments_lexer": "ipython3",
   "version": "3.6.4"
  }
 },
 "nbformat": 4,
 "nbformat_minor": 2
}
