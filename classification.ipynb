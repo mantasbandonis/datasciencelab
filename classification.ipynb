{
 "cells": [
  {
   "cell_type": "code",
   "execution_count": null,
   "metadata": {},
   "outputs": [],
   "source": [
    "import os\n",
    "import sys\n",
    "import csv\n",
    "import requests\n",
    "import json\n",
    "import operator\n",
    "import time\n",
    "import datetime\n",
    "import platform\n",
    "import itertools"
   ]
  },
  {
   "cell_type": "code",
   "execution_count": 105,
   "metadata": {},
   "outputs": [],
   "source": [
    "def writeText(text, path, mode = 'w'):     # function to work with text files\n",
    "    with open (path, mode) as textout:\n",
    "        textout.write((text))\n",
    "        \n",
    "def writeJson(json, path, mode = 'w'):          # function to work with Json files\n",
    "    with open(path, mode) as file:\n",
    "        file.write(json.dumps(json))\n",
    "        \n",
    "def writeCsv(listOut, outputFile):          # function to work with csv files\n",
    "    import csv\n",
    "    with open (outputFile, \"w\", newline='', encoding = 'utf-8') as outputfile:\n",
    "        writer = csv.writer(outputfile, delimiter = \",\")\n",
    "        for element in listOut:\n",
    "            writer.writerow(element)"
   ]
  },
  {
   "cell_type": "code",
   "execution_count": 106,
   "metadata": {},
   "outputs": [],
   "source": [
    "def getTxt(path):                 # open txt file in read mode\n",
    "    return open(path, 'r').read()\n",
    "\n",
    "def getCsv(path, delim = ','):    # insert data of csv in lists \n",
    "    list_return = []\n",
    "    with open (path, encoding = 'windows-1252') as file:\n",
    "        csvreader = csv.reader(file, delimiter = delim)        \n",
    "        for i, line in enumerate(csvreader):\n",
    "            list_inner = []\n",
    "            list_inner.append(line[0].replace('\\\"','').replace('\\'','').replace('[','').replace(']','').strip().split(','))\n",
    "            list_inner.append(line[1].replace('\\\"','').replace('\\'','').replace('[','').replace(']','').strip().split(','))\n",
    "            list_inner.append(line[2].replace('\\\"','').replace('\\'','').replace('[','').replace(']','').strip().split(','))\n",
    "            list_return.append(list_inner)\n",
    "    \n",
    "    \n",
    "    return list_return"
   ]
  },
  {
   "cell_type": "code",
   "execution_count": 107,
   "metadata": {},
   "outputs": [],
   "source": [
    "if platform.system() == 'Windows':           # platform specific paths for opening prep_out.csv\n",
    "    prep_data = getCsv('..\\\\output\\\\prep_out.csv')\n",
    "else:\n",
    "    prep_data = getCsv('../output/prep_out.csv')"
   ]
  },
  {
   "cell_type": "code",
   "execution_count": 108,
   "metadata": {},
   "outputs": [
    {
     "name": "stdout",
     "output_type": "stream",
     "text": [
      "3573\n",
      "[[['agricultural', ' raw', ' materials', ' imports', ' merchandise', ' imports', ' countries'], ['agricultural', ' raw', ' materials', ' comprise', ' sitc', ' section', ' crude', ' materials', ' fuels', ' excluding', ' divisions', ' crude', ' fertilizers', ' minerals', ' excluding', ' coal', ' petroleum', ' precious', ' stones', ' metalliferous', ' ores', ' scrap'], ['']], [['agricultural', ' raw', ' materials', ' imports', ' merchandise', ' imports', ' countries', ' grouped', ' income', ' levels'], ['agricultural', ' raw', ' materials', ' comprise', ' sitc', ' section', ' crude', ' materials', ' fuels', ' excluding', ' divisions', ' crude', ' fertilizers', ' minerals', ' excluding', ' coal', ' petroleum', ' precious', ' stones', ' metalliferous', ' ores', ' scrap'], ['']], [['agricultural', ' raw', ' materials', ' imports', ' merchandise', ' imports', ' world', ' regions'], ['agricultural', ' raw', ' materials', ' comprise', ' sitc', ' section', ' crude', ' materials', ' fuels', ' excluding', ' divisions', ' crude', ' fertilizers', ' minerals', ' excluding', ' coal', ' petroleum', ' precious', ' stones', ' metalliferous', ' ores', ' scrap'], ['']], [['agricultural', ' raw', ' materials', ' imports', ' merchandise', ' imports', ' world'], ['agricultural', ' raw', ' materials', ' comprise', ' sitc', ' section', ' crude', ' materials', ' fuels', ' excluding', ' divisions', ' crude', ' fertilizers', ' minerals', ' excluding', ' coal', ' petroleum', ' precious', ' stones', ' metalliferous', ' ores', ' scrap'], ['']]]\n"
     ]
    }
   ],
   "source": [
    "print(len(prep_data))     # get amount of lists (data sets)\n",
    "print(prep_data[1141:1145]) # print for test purposes the 1141st list"
   ]
  },
  {
   "cell_type": "markdown",
   "metadata": {},
   "source": [
    "Mein Ansatz hier wäre gewesen die erste Liste (title) in der Geamtliste zu ersetzen durch ein Set (um duplicate zu vermeiden) von \n",
    "der ersten Liste  (title) (prep_data[0]) und \n",
    "der 2ten liste (desc.) (prep_data[1])\n",
    "Aber entweder der Code ist vollkommen falsch oder ich hab mich mit den Listen vertan. "
   ]
  },
  {
   "cell_type": "code",
   "execution_count": 109,
   "metadata": {},
   "outputs": [],
   "source": [
    "# print(list(prep_data[1][0] + prep_data[1][1]))\n",
    "# print(set(prep_data[3572][0] + prep_data[3572][1]))"
   ]
  },
  {
   "cell_type": "code",
   "execution_count": 110,
   "metadata": {},
   "outputs": [],
   "source": [
    "# for i, elem in enumerate(prep_data):\n",
    "#    prep_data[i][0] = list(set(prep_data[i][0] + prep_data[i][1]))"
   ]
  },
  {
   "cell_type": "code",
   "execution_count": 111,
   "metadata": {},
   "outputs": [],
   "source": [
    "# print(prep_data[2])"
   ]
  },
  {
   "cell_type": "markdown",
   "metadata": {},
   "source": [
    "## Word2Vec"
   ]
  },
  {
   "cell_type": "code",
   "execution_count": 112,
   "metadata": {},
   "outputs": [],
   "source": [
    "def getVecList(list_in):\n",
    "    failcnt = 0\n",
    "    failelemcnt = 0\n",
    "    str_log = 'Started at:\\n' + datetime.datetime.fromtimestamp(time.time()).strftime('%Y-%m-%d %H:%M:%S') + '\\n'\n",
    "    print('Started at:')\n",
    "    print(datetime.datetime.fromtimestamp(time.time()).strftime('%Y-%m-%d %H:%M:%S'),'\\n')\n",
    "    # List of Lists as input needed\n",
    "    adress = 'http://word2vec.ai.wu.ac.at/googlenews/model?word='\n",
    "#     adress = 'http://word2vec.ai.wu.ac.at/twitter27_200/model?word='\n",
    "    list_return = [[],[],[]]\n",
    "    list_failed = []\n",
    "    \n",
    "    \n",
    "    \n",
    "    for i, elem in enumerate(list_in):\n",
    "        inner_feat1, inner_feat2, inner_label = [], [], []\n",
    "        str_1 = '-------------------------------\\n' + 'Element ' + str(i)\n",
    "        #print(str_1)\n",
    "        str_log += str_1 + '\\n'\n",
    "    \n",
    "        \n",
    "# name ----------------------------------------\n",
    "        for str_elem in elem[0]:\n",
    "            word = str_elem.strip() \n",
    "            try:\n",
    "                inner_feat1.append([float(x) for x in requests.get((adress+word)).text.replace(' ','').replace('[','').replace(']','').split(',')])\n",
    "            except:\n",
    "                try:\n",
    "                    inner_feat1.append([float(x) for x in requests.get((adress+word.title())).text.replace(' ','').replace('[','').replace(']','').split(',')])\n",
    "                except Exception as e:\n",
    "                    str_2 = 'fail\\n' + adress+(word) + '\\n' + str(e) + '\\n' + requests.get((adress+word)).text\n",
    "                    #print(str_2)\n",
    "                    str_log += str_2 + '\\n'\n",
    "#                     inner_feat1.append([])\n",
    "                    list_failed.append(word)\n",
    "                    failcnt += 1\n",
    "# desc ----------------------------------------\n",
    "        for str_elem in elem[1]:\n",
    "            word = str_elem.strip() \n",
    "            try:\n",
    "                inner_feat2.append([float(x) for x in requests.get((adress+word)).text.replace(' ','').replace('[','').replace(']','').split(',')])\n",
    "            except:\n",
    "                try:\n",
    "                    inner_feat2.append([float(x) for x in requests.get((adress+word.title())).text.replace(' ','').replace('[','').replace(']','').split(',')])\n",
    "                except Exception as e:\n",
    "                    str_3 = 'fail\\n' + adress+(word) + '\\n' + str(e) + '\\n' + requests.get((adress+word)).text\n",
    "                    #print(str_3)\n",
    "                    str_log += str_3 + '\\n'\n",
    "#                     inner_feat2.append([])\n",
    "                    list_failed.append(word)\n",
    "                    failcnt += 1\n",
    "# label ----------------------------------------\n",
    "        for str_elem in elem[2]:\n",
    "            word = str_elem.strip() \n",
    "            try:\n",
    "                inner_label.append([float(x) for x in requests.get((adress+word)).text.replace(' ','').replace('[','').replace(']','').split(',')])\n",
    "            except:\n",
    "                try:\n",
    "                    inner_label.append([float(x) for x in requests.get((adress+word.title())).text.replace(' ','').replace('[','').replace(']','').split(',')])\n",
    "                except Exception as e:\n",
    "                    str_4 = 'fail\\n' + adress+(word) + '\\n' + str(e) + '\\n' + requests.get((adress+word)).text\n",
    "                    #print(str_4)\n",
    "                    str_log += str_4 + '\\n'\n",
    "#                     inner_label.append([])\n",
    "                    list_failed.append(word)\n",
    "                    failcnt += 1\n",
    "        \n",
    "        \n",
    "        if (inner_feat1 and inner_feat2 and inner_label):\n",
    "            list_return[0].append(inner_feat1)\n",
    "            list_return[1].append(inner_feat2)\n",
    "            list_return[2].append(inner_label)\n",
    "        else:\n",
    "            str_log += 'fail\\nEmpty List can not be appended!\\n'\n",
    "            failelemcnt += 1\n",
    "            \n",
    "        \n",
    "        \n",
    "    print('Failed words: ', failcnt)\n",
    "    print('Failed Elements: ', failelemcnt)\n",
    "    str_log += '\\nFinished at:\\n' + datetime.datetime.fromtimestamp(time.time()).strftime('%Y-%m-%d %H:%M:%S')\n",
    "    writeText(str_log, '../output/log.txt')    \n",
    "    print('\\nEnded at:')\n",
    "    print(datetime.datetime.fromtimestamp(time.time()).strftime('%Y-%m-%d %H:%M:%S')) \n",
    "    return list_return, list_failed"
   ]
  },
  {
   "cell_type": "code",
   "execution_count": null,
   "metadata": {
    "scrolled": true
   },
   "outputs": [
    {
     "name": "stdout",
     "output_type": "stream",
     "text": [
      "Started at:\n",
      "2018-11-06 15:11:20 \n",
      "\n"
     ]
    }
   ],
   "source": [
    "vect_list = getVecList(prep_data)"
   ]
  },
  {
   "cell_type": "code",
   "execution_count": null,
   "metadata": {},
   "outputs": [],
   "source": [
    "feature1 = vect_list[0][0]\n",
    "feature2 = vect_list[0][1]\n",
    "labels = vect_list[0][2]\n",
    "missing = vect_list[1]"
   ]
  },
  {
   "cell_type": "code",
   "execution_count": null,
   "metadata": {},
   "outputs": [],
   "source": [
    "len(feature1)"
   ]
  },
  {
   "cell_type": "code",
   "execution_count": null,
   "metadata": {},
   "outputs": [],
   "source": [
    "if platform.system() == 'Windows':\n",
    "    writeCsv(feature1, '..\\\\output\\\\feat1.csv')\n",
    "    writeCsv(feature2, '..\\\\output\\\\feat2.csv')\n",
    "    writeCsv(labels, '..\\\\output\\\\labels.csv')\n",
    "else:\n",
    "    writeCsv(feature1, '../output/feat1.csv')\n",
    "    writeCsv(feature2, '../output/feat2.csv')\n",
    "    writeCsv(labels, '../output/labels.csv')"
   ]
  },
  {
   "cell_type": "code",
   "execution_count": null,
   "metadata": {},
   "outputs": [],
   "source": [
    "print(feature1[0])\n",
    "print('-----------------------------------')\n",
    "print(feature2[0])\n",
    "print('-----------------------------------')\n",
    "print(labels[0])"
   ]
  },
  {
   "cell_type": "markdown",
   "metadata": {},
   "source": [
    "<br><br><br><br><br><br><br><br><br><br><br><br><br><br><br><br><br><br><br><br><br><br><br><br><br><br><br><br>\n",
    "\n",
    "\n",
    "\n",
    "\n",
    "\n",
    "\n",
    "\n",
    "\n",
    "\n",
    "\n",
    "\n",
    "\n",
    "\n",
    "\n",
    "\n",
    "\n",
    "\n",
    "\n",
    "\n"
   ]
  }
 ],
 "metadata": {
  "kernelspec": {
   "display_name": "Python 3",
   "language": "python",
   "name": "python3"
  },
  "language_info": {
   "codemirror_mode": {
    "name": "ipython",
    "version": 3
   },
   "file_extension": ".py",
   "mimetype": "text/x-python",
   "name": "python",
   "nbconvert_exporter": "python",
   "pygments_lexer": "ipython3",
   "version": "3.6.5"
  }
 },
 "nbformat": 4,
 "nbformat_minor": 2
}
